{
 "cells": [
  {
   "cell_type": "markdown",
   "id": "bc65a9bf-b20f-473f-ab61-e74e6aaaf48e",
   "metadata": {},
   "source": [
    "# Mutipolar polarizable force field with fluctuating charges"
   ]
  },
  {
   "cell_type": "markdown",
   "id": "9cccf29a",
   "metadata": {},
   "source": [
    "In this demo, we show how to implement a **multipolar polarizable potential with fluctuating charges** with DMFF API.\n",
    "\n",
    "In conventional models, atomic charges are pre-defined and remain unchanged during the simulation. Here, we want to implement a model that considers atomic charges as *conformer-dependent*, so that the charges can vary during a molecular dynamics simulation. This will give better description of the system's behavior.\n",
    "\n",
    "## System preparation\n",
    "Load the coordinates, box and compute neighbor list. Note that conventionally in multipolar polarizable models, the length unit is **angstrom**."
   ]
  },
  {
   "cell_type": "code",
   "execution_count": 16,
   "id": "65e57cd8",
   "metadata": {},
   "outputs": [],
   "source": [
    "import numpy as np\n",
    "import jax\n",
    "import jax.numpy as jnp\n",
    "import openmm.app as app\n",
    "import openmm.unit as unit\n",
    "from dmff import Hamiltonian, NeighborListFreud\n",
    "\n",
    "def build_covalent_map(top, max_neighbor=6):\n",
    "    n_atoms = top.getNumAtoms()\n",
    "    covalent_map = np.zeros((n_atoms, n_atoms), dtype=int)\n",
    "    for bond in top.bonds():\n",
    "        covalent_map[bond.atom1.index, bond.atom2.index] = 1\n",
    "        covalent_map[bond.atom2.index, bond.atom1.index] = 1\n",
    "    for n_curr in range(1, max_neighbor):\n",
    "        for i in range(n_atoms):\n",
    "            # current neighbors\n",
    "            j_list = np.where(\n",
    "                np.logical_and(covalent_map[i] <= n_curr,\n",
    "                               covalent_map[i] > 0))[0]\n",
    "            for j in j_list:\n",
    "                k_list = np.where(covalent_map[j] == 1)[0]\n",
    "                for k in k_list:\n",
    "                    if k != i and k not in j_list:\n",
    "                        covalent_map[i, k] = n_curr + 1\n",
    "                        covalent_map[k, i] = n_curr + 1\n",
    "    return jnp.array(covalent_map)\n",
    "\n",
    "app.Topology.loadBondDefinitions(\"residues.xml\")\n",
    "pdb = app.PDBFile(\"water_dimer.pdb\")\n",
    "rc = 4 # cutoff, in angstrom\n",
    "positions = jnp.array(pdb.getPositions(asNumpy=True).value_in_unit(unit.angstrom))\n",
    "box = jnp.array(\n",
    "    [vec.value_in_unit(unit.angstrom) for vec in pdb.topology.getPeriodicBoxVectors()]\n",
    ")\n",
    "cov_map = build_covalent_map(pdb.topology)\n",
    "nbList = NeighborListFreud(box, rc, cov_map)\n",
    "nbList.allocate(positions)\n",
    "pairs = nbList.pairs"
   ]
  },
  {
   "cell_type": "markdown",
   "id": "43a9afc9-e01c-49e5-9ddc-006fd44a3a31",
   "metadata": {},
   "source": [
    "## Genearate auto-differentiable multipolar polarizable (ADMP) forces"
   ]
  },
  {
   "cell_type": "markdown",
   "id": "cb817059-1b3a-42a5-a494-02fcabe6bc75",
   "metadata": {},
   "source": [
    "First, we will use the `dmff` to create a multipolar polarizable potential with **fixed** atomic charges.\n",
    "\n",
    "Here, we have two types of force: \n",
    "\n",
    "- Dispersion force\n",
    "- Multipolar polarizable PME force.\n",
    "\n",
    "We will focus on the PME force."
   ]
  },
  {
   "cell_type": "code",
   "execution_count": 20,
   "id": "2dad4351",
   "metadata": {},
   "outputs": [],
   "source": [
    "H = Hamiltonian('forcefield.xml')\n",
    "pots = H.createPotential(pdb.topology, nonbondedCutoff=rc*unit.angstrom, step_pol=5)\n",
    "pme_pot = pots.dmff_potentials['ADMPPmeForce']\n",
    "disp_generator, pme_generator = H.getGenerators()"
   ]
  },
  {
   "cell_type": "markdown",
   "id": "97892dfe",
   "metadata": {},
   "source": [
    "The function `pme_pot` takes the following actions:\n",
    "\n",
    "- Expand **force field parameters** (oxygen and hydrogen charges, polarizabilites, etc.) pre-defined in `forcefield.xml` to each atom, which we called **atomic parameters**\n",
    "- Calls the real PME kernel function to evaluate energy.\n",
    "\n",
    "The force field parameters are stored in Hamiltonian `H`. And the expansion is implemented with the *broadcast* feature of `jax.numpy.ndarray`."
   ]
  },
  {
   "cell_type": "code",
   "execution_count": null,
   "id": "0ab968c2",
   "metadata": {},
   "outputs": [],
   "source": [
    "params = H.getParameters()['ADMPPmeForce']\n",
    "params['Q_local'][pme_generator.map_atomtype]"
   ]
  },
  {
   "cell_type": "markdown",
   "id": "f78b9b80-fdfb-45ba-90a4-b09475c5feff",
   "metadata": {},
   "source": [
    "## Implement fluctuating charges"
   ]
  },
  {
   "cell_type": "markdown",
   "id": "a17ba838",
   "metadata": {},
   "source": [
    "Since this expansion process is done internally within `pme_pot`, it is **not flexible** enough for us to specify atom-specific charges, i.e. **fluctuating charges**. \n",
    "\n",
    "As a result, we must re-write `pme_pot` to enable modifying the atomic charges after force field parameter expansion. \n",
    "\n",
    "Benifiting from the flexible APIs in DMFF, we will reuse most of the functions and variables in the `pme_generator`, only modify charges in the input parameters, i.e. the `Q_local` argument in `pme_generator.pme_force.get_energy` function."
   ]
  },
  {
   "cell_type": "code",
   "execution_count": 22,
   "id": "bae85400",
   "metadata": {
    "scrolled": true
   },
   "outputs": [],
   "source": [
    "from dmff.utils import jit_condition\n",
    "from dmff.admp.pme import trim_val_0\n",
    "from dmff.admp.spatial import v_pbc_shift\n",
    "\n",
    "\n",
    "@jit_condition(static_argnums=())\n",
    "def compute_leading_terms(positions, box):\n",
    "    n_atoms = len(positions)\n",
    "    c0 = jnp.zeros(n_atoms)\n",
    "    c6_list = jnp.zeros(n_atoms)\n",
    "    box_inv = jnp.linalg.inv(box)\n",
    "    O = positions[::3]\n",
    "    H1 = positions[1::3]\n",
    "    H2 = positions[2::3]\n",
    "    ROH1 = H1 - O\n",
    "    ROH2 = H2 - O\n",
    "    ROH1 = v_pbc_shift(ROH1, box, box_inv)\n",
    "    ROH2 = v_pbc_shift(ROH2, box, box_inv)\n",
    "    dROH1 = jnp.linalg.norm(ROH1, axis=1)\n",
    "    dROH2 = jnp.linalg.norm(ROH2, axis=1)\n",
    "    costh = jnp.sum(ROH1 * ROH2, axis=1) / (dROH1 * dROH2)\n",
    "    angle = jnp.arccos(costh) * 180 / jnp.pi\n",
    "    dipole = -0.016858755 + 0.002287251 * angle + 0.239667591 * dROH1 + (-0.070483437) * dROH2\n",
    "    charge_H = dipole / dROH1\n",
    "    charge_O = charge_H * (-2)\n",
    "    C6_H = (-2.36066199 + (-0.007049238) * angle + 1.949429648 * dROH1+ 2.097120784 * dROH2) * 0.529**6 * 2625.5\n",
    "    C6_O = (-8.641301261 + 0.093247893 * angle + 11.90395358 * (dROH1+ dROH2)) * 0.529**6 * 2625.5\n",
    "    C6_H = trim_val_0(C6_H)\n",
    "    c0 = c0.at[::3].set(charge_O)\n",
    "    c0 = c0.at[1::3].set(charge_H)\n",
    "    c0 = c0.at[2::3].set(charge_H)\n",
    "    c6_list = c6_list.at[::3].set(jnp.sqrt(C6_O))\n",
    "    c6_list = c6_list.at[1::3].set(jnp.sqrt(C6_H))\n",
    "    c6_list = c6_list.at[2::3].set(jnp.sqrt(C6_H))\n",
    "    return c0, c6_list\n",
    "\n",
    "\n",
    "def generate_calculator(pme_generator, params):\n",
    "    def admp_calculator(positions, box, pairs):\n",
    "        c0, c6_list = compute_leading_terms(positions,box) # compute fluctuated charges\n",
    "        Q_local = params[\"Q_local\"][pme_generator.map_atomtype]\n",
    "        Q_local = Q_local.at[:,0].set(c0)  # change fixed charge into fluctuated one\n",
    "        pol = params[\"pol\"][pme_generator.map_poltype]\n",
    "        tholes = params[\"tholes\"][pme_generator.map_poltype]\n",
    "        mScales = params[\"mScales\"]\n",
    "        pScales = params[\"pScales\"]\n",
    "        dScales = params[\"dScales\"]\n",
    "        E_pme = pme_generator.pme_force.get_energy(\n",
    "            positions, \n",
    "            box, \n",
    "            pairs, \n",
    "            Q_local, \n",
    "            pol, \n",
    "            tholes, \n",
    "            mScales, \n",
    "            pScales, \n",
    "            dScales\n",
    "        )\n",
    "        return E_pme \n",
    "    return jax.jit(admp_calculator)\n"
   ]
  },
  {
   "cell_type": "markdown",
   "id": "9aac71bd-c759-4423-8441-b802ea213722",
   "metadata": {},
   "source": [
    "**Finally, compute the energy and force!**"
   ]
  },
  {
   "cell_type": "code",
   "execution_count": null,
   "id": "d545d7b7",
   "metadata": {},
   "outputs": [],
   "source": [
    "potential_fn = generate_calculator(pme_generator, params)\n",
    "ene = potential_fn(positions, box, pairs)\n",
    "print(ene)"
   ]
  },
  {
   "cell_type": "code",
   "execution_count": null,
   "id": "a863ee0b",
   "metadata": {},
   "outputs": [],
   "source": [
    "force_fn = jax.grad(potential_fn, argnums=(0))\n",
    "force = -force_fn(positions, box, pairs)\n",
    "print(force)"
   ]
  },
  {
   "cell_type": "markdown",
   "id": "c74539d4",
   "metadata": {},
   "source": [
    "The running speed of the first pass is slow because JAX is trying to track the data flow and compile the code. Once the code is compiled, it runs much faster, until the shapes of the input parameters change, trigerring a recompilation.  "
   ]
  },
  {
   "cell_type": "code",
   "execution_count": null,
   "id": "aa73c8d4",
   "metadata": {},
   "outputs": [],
   "source": [
    "print(-force_fn(positions, box, pairs))"
   ]
  },
  {
   "cell_type": "code",
   "execution_count": null,
   "id": "e87073c4",
   "metadata": {},
   "outputs": [],
   "source": []
  }
 ],
 "metadata": {
  "kernelspec": {
   "display_name": "Python 3 (ipykernel)",
   "language": "python",
   "name": "python3"
  },
  "language_info": {
   "codemirror_mode": {
    "name": "ipython",
    "version": 3
   },
   "file_extension": ".py",
   "mimetype": "text/x-python",
   "name": "python",
   "nbconvert_exporter": "python",
   "pygments_lexer": "ipython3",
   "version": "3.8.12"
  }
 },
 "nbformat": 4,
 "nbformat_minor": 5
}
