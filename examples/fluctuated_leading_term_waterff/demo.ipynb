{
 "cells": [
  {
   "cell_type": "markdown",
   "id": "bc65a9bf-b20f-473f-ab61-e74e6aaaf48e",
   "metadata": {},
   "source": [
    "# Mutipolar polarizable force field with fluctuating charges"
   ]
  },
  {
   "cell_type": "markdown",
   "id": "9cccf29a",
   "metadata": {},
   "source": [
    "In this demo, we show how to implement a **multipolar polarizable potential with fluctuating charges** with DMFF API.\n",
    "\n",
    "In conventional models, atomic charges are pre-defined and remain unchanged during the simulation. Here, we want to implement a model that considers atomic charges as *conformer-dependent*, so that the charges can vary during a molecular dynamics simulation. This will give better description of the system's behavior.\n",
    "\n",
    "## System preparation\n",
    "Load the coordinates, box of a water dimer system. The unit of the frontend API is **nanometer**."
   ]
  },
  {
   "cell_type": "code",
   "execution_count": 1,
   "id": "65e57cd8",
   "metadata": {},
   "outputs": [
    {
     "name": "stderr",
     "output_type": "stream",
     "text": [
      "/home/kuangy/anaconda3/envs/py310/lib/python3.10/site-packages/haiku/_src/data_structures.py:37: FutureWarning: jax.tree_structure is deprecated, and will be removed in a future release. Use jax.tree_util.tree_structure instead.\n",
      "  PyTreeDef = type(jax.tree_structure(None))\n"
     ]
    }
   ],
   "source": [
    "import sys\n",
    "import jax\n",
    "import jax.numpy as jnp\n",
    "import openmm.app as app\n",
    "import openmm.unit as unit\n",
    "from dmff.api import Hamiltonian\n",
    "from jax_md import space, partition\n",
    "from jax import value_and_grad, jit\n",
    "import pickle\n",
    "from dmff.admp.pme import trim_val_0\n",
    "from dmff.admp.spatial import v_pbc_shift\n",
    "from dmff.common import nblist\n",
    "from dmff.utils import jit_condition\n",
    "from dmff.admp.pairwise import (\n",
    "    TT_damping_qq_c6_kernel,\n",
    "    generate_pairwise_interaction,\n",
    "    slater_disp_damping_kernel,\n",
    "    slater_sr_kernel,\n",
    "    TT_damping_qq_kernel\n",
    ")\n",
    "\n",
    "rc = 0.4\n",
    "pdb = app.PDBFile(\"water_dimer.pdb\")\n",
    "# construct inputs\n",
    "positions = jnp.array(pdb.positions._value)\n",
    "a, b, c = pdb.topology.getPeriodicBoxVectors()\n",
    "box = jnp.array([a._value, b._value, c._value])\n"
   ]
  },
  {
   "cell_type": "markdown",
   "id": "43a9afc9-e01c-49e5-9ddc-006fd44a3a31",
   "metadata": {},
   "source": [
    "## Genearate auto-differentiable multipolar polarizable (ADMP) forces"
   ]
  },
  {
   "cell_type": "markdown",
   "id": "cb817059-1b3a-42a5-a494-02fcabe6bc75",
   "metadata": {},
   "source": [
    "First, we will use the `dmff` to create a multipolar polarizable potential with **fixed** atomic charges.\n",
    "\n",
    "Here, we have two types of force: \n",
    "\n",
    "- Dispersion force\n",
    "- Multipolar polarizable PME force.\n",
    "\n",
    "We will focus on the PME force."
   ]
  },
  {
   "cell_type": "code",
   "execution_count": 2,
   "id": "2dad4351",
   "metadata": {},
   "outputs": [],
   "source": [
    "H = Hamiltonian('forcefield.xml')\n",
    "# generator stores all force field parameters     \n",
    "pots = H.createPotential(pdb.topology, nonbondedCutoff=rc*unit.nanometer, step_pol=5)\n",
    "pme_pot = pots.dmff_potentials['ADMPPmeForce']\n",
    "disp_generator, pme_generator = H.getGenerators()"
   ]
  },
  {
   "cell_type": "markdown",
   "id": "97892dfe",
   "metadata": {},
   "source": [
    "The function `pme_pot` takes the following actions:\n",
    "\n",
    "- Expand **force field parameters** (oxygen and hydrogen charges, polarizabilites, etc.) pre-defined in `forcefield.xml` to each atom, which we called **atomic parameters**\n",
    "- Calls the real PME kernel function to evaluate energy.\n",
    "\n",
    "The force field parameters are stored in Hamiltonian `H`. And the expansion is implemented with the *broadcast* feature of `jax.numpy.ndarray`. The expansion can be done using the variable `map_atomtype`, which maps each atom to the corrsponding atomtype."
   ]
  },
  {
   "cell_type": "code",
   "execution_count": 5,
   "id": "0ab968c2",
   "metadata": {},
   "outputs": [
    {
     "data": {
      "text/plain": [
       "Array([[-0.803721  , -0.0784325 ,  0.        ,  0.        ,  0.00459693,\n",
       "         0.        ,  0.        ,  0.12960503,  0.        ],\n",
       "       [ 0.401876  , -0.0095895 , -0.0121713 ,  0.        ,  0.00812139,\n",
       "         0.00436148,  0.        ,  0.00701541,  0.        ],\n",
       "       [ 0.401876  , -0.0095895 , -0.0121713 ,  0.        ,  0.00812139,\n",
       "         0.00436148,  0.        ,  0.00701541,  0.        ],\n",
       "       [-0.803721  , -0.0784325 ,  0.        ,  0.        ,  0.00459693,\n",
       "         0.        ,  0.        ,  0.12960503,  0.        ],\n",
       "       [ 0.401876  , -0.0095895 , -0.0121713 ,  0.        ,  0.00812139,\n",
       "         0.00436148,  0.        ,  0.00701541,  0.        ],\n",
       "       [ 0.401876  , -0.0095895 , -0.0121713 ,  0.        ,  0.00812139,\n",
       "         0.00436148,  0.        ,  0.00701541,  0.        ]],      dtype=float64)"
      ]
     },
     "execution_count": 5,
     "metadata": {},
     "output_type": "execute_result"
    }
   ],
   "source": [
    "params = H.getParameters()['ADMPPmeForce']\n",
    "map_atomtype = pots.meta[\"ADMPPmeForce_map_atomtype\"]\n",
    "params['Q_local'][map_atomtype]"
   ]
  },
  {
   "cell_type": "markdown",
   "id": "f78b9b80-fdfb-45ba-90a4-b09475c5feff",
   "metadata": {},
   "source": [
    "## Implement fluctuating charges"
   ]
  },
  {
   "cell_type": "markdown",
   "id": "a17ba838",
   "metadata": {},
   "source": [
    "Since this expansion process is done internally within `pme_pot`, it is **not flexible** enough for us to specify atom-specific charges, i.e. **fluctuating charges**. \n",
    "\n",
    "As a result, we must re-write `pme_pot` to enable modifying the atomic charges after force field parameter expansion. \n",
    "\n",
    "Benifiting from the flexible APIs in DMFF, we will reuse most of the functions and variables in the `pme_generator`, only modify charges in the input parameters, i.e. the `Q_local` argument in `pme_generator.pme_force.get_energy` function. One particular thing to be careful is that all ADMP backend functions assumes the inputs (`positions` and `box`) are in Angstrom, instead of nm!"
   ]
  },
  {
   "cell_type": "code",
   "execution_count": 6,
   "id": "bae85400",
   "metadata": {
    "scrolled": true
   },
   "outputs": [],
   "source": [
    "from dmff.utils import jit_condition\n",
    "from dmff.admp.pme import trim_val_0\n",
    "from dmff.admp.spatial import v_pbc_shift\n",
    "\n",
    "\n",
    "@jit_condition(static_argnums=())\n",
    "def compute_leading_terms(positions, box):\n",
    "    n_atoms = len(positions)\n",
    "    c0 = jnp.zeros(n_atoms)\n",
    "    c6_list = jnp.zeros(n_atoms)\n",
    "    box_inv = jnp.linalg.inv(box)\n",
    "    O = positions[::3]\n",
    "    H1 = positions[1::3]\n",
    "    H2 = positions[2::3]\n",
    "    ROH1 = H1 - O\n",
    "    ROH2 = H2 - O\n",
    "    ROH1 = v_pbc_shift(ROH1, box, box_inv)\n",
    "    ROH2 = v_pbc_shift(ROH2, box, box_inv)\n",
    "    dROH1 = jnp.linalg.norm(ROH1, axis=1)\n",
    "    dROH2 = jnp.linalg.norm(ROH2, axis=1)\n",
    "    costh = jnp.sum(ROH1 * ROH2, axis=1) / (dROH1 * dROH2)\n",
    "    angle = jnp.arccos(costh) * 180 / jnp.pi\n",
    "    dipole = -0.016858755 + 0.002287251 * angle + 0.239667591 * dROH1 + (-0.070483437) * dROH2\n",
    "    charge_H = dipole / dROH1\n",
    "    charge_O = charge_H * (-2)\n",
    "    C6_H = (-2.36066199 + (-0.007049238) * angle + 1.949429648 * dROH1+ 2.097120784 * dROH2) * 0.529**6 * 2625.5\n",
    "    C6_O = (-8.641301261 + 0.093247893 * angle + 11.90395358 * (dROH1+ dROH2)) * 0.529**6 * 2625.5\n",
    "    C6_H = trim_val_0(C6_H)\n",
    "    c0 = c0.at[::3].set(charge_O)\n",
    "    c0 = c0.at[1::3].set(charge_H)\n",
    "    c0 = c0.at[2::3].set(charge_H)\n",
    "    c6_list = c6_list.at[::3].set(jnp.sqrt(C6_O))\n",
    "    c6_list = c6_list.at[1::3].set(jnp.sqrt(C6_H))\n",
    "    c6_list = c6_list.at[2::3].set(jnp.sqrt(C6_H))\n",
    "    return c0, c6_list\n",
    "\n",
    "\n",
    "def generate_calculator(pots, pme_generator, params):\n",
    "    map_atomtype = pots.meta[\"ADMPPmeForce_map_atomtype\"]\n",
    "    map_poltype = pots.meta[\"ADMPPmeForce_map_poltype\"]\n",
    "    def admp_calculator(positions, box, pairs):\n",
    "        positions = positions * 10 # convert from nm to angstrom\n",
    "        box = box * 10\n",
    "        c0, c6_list = compute_leading_terms(positions, box) # compute fluctuated charges\n",
    "        Q_local = params[\"Q_local\"][map_atomtype]\n",
    "        Q_local = Q_local.at[:,0].set(c0)  # change fixed charge into fluctuated one\n",
    "        pol = params[\"pol\"][map_poltype]\n",
    "        tholes = params[\"thole\"][map_poltype]\n",
    "        mScales = pme_generator.mScales\n",
    "        pScales = pme_generator.pScales\n",
    "        dScales = pme_generator.dScales\n",
    "        E_pme = pme_generator.pme_force.get_energy(\n",
    "            positions, \n",
    "            box, \n",
    "            pairs, \n",
    "            Q_local, \n",
    "            pol, \n",
    "            tholes, \n",
    "            mScales, \n",
    "            pScales, \n",
    "            dScales\n",
    "        )\n",
    "        return E_pme \n",
    "    return jax.jit(admp_calculator)\n"
   ]
  },
  {
   "cell_type": "markdown",
   "id": "9aac71bd-c759-4423-8441-b802ea213722",
   "metadata": {},
   "source": [
    "**Finally, compute the energy and force!**"
   ]
  },
  {
   "cell_type": "code",
   "execution_count": 8,
   "id": "d545d7b7",
   "metadata": {},
   "outputs": [
    {
     "name": "stdout",
     "output_type": "stream",
     "text": [
      "-41.261709056188494\n"
     ]
    }
   ],
   "source": [
    "# neighbor list\n",
    "nbl = nblist.NeighborList(box, rc, pots.meta[\"cov_map\"])\n",
    "nbl.allocate(positions)\n",
    "pairs = nbl.pairs\n",
    "\n",
    "potential_fn = generate_calculator(pots, pme_generator, params)\n",
    "ene = potential_fn(positions, box, pairs)\n",
    "print(ene)"
   ]
  },
  {
   "cell_type": "code",
   "execution_count": 9,
   "id": "a863ee0b",
   "metadata": {},
   "outputs": [
    {
     "name": "stdout",
     "output_type": "stream",
     "text": [
      "[[ -76.31268719  117.49783627  -79.89266772]\n",
      " [ 751.2499921  -582.24588471 -251.82070224]\n",
      " [ -18.97483886  -49.68783375  146.28345763]\n",
      " [-675.35013452  382.30839617  204.50616711]\n",
      " [ -25.65479533  -52.55337869   41.92507785]\n",
      " [  45.04246381  184.68086471  -61.00133263]]\n"
     ]
    }
   ],
   "source": [
    "force_fn = jax.grad(potential_fn, argnums=(0))\n",
    "force = -force_fn(positions, box, pairs)\n",
    "print(force)"
   ]
  },
  {
   "cell_type": "markdown",
   "id": "c74539d4",
   "metadata": {},
   "source": [
    "The running speed of the first pass is slow because JAX is trying to track the data flow and compile the code. Once the code is compiled, it runs much faster, until the shapes of the input parameters change, trigerring a recompilation.  "
   ]
  },
  {
   "cell_type": "code",
   "execution_count": 10,
   "id": "aa73c8d4",
   "metadata": {},
   "outputs": [
    {
     "name": "stdout",
     "output_type": "stream",
     "text": [
      "[[ -76.31268719  117.49783627  -79.89266772]\n",
      " [ 751.2499921  -582.24588471 -251.82070224]\n",
      " [ -18.97483886  -49.68783375  146.28345763]\n",
      " [-675.35013452  382.30839617  204.50616711]\n",
      " [ -25.65479533  -52.55337869   41.92507785]\n",
      " [  45.04246381  184.68086471  -61.00133263]]\n"
     ]
    }
   ],
   "source": [
    "print(-force_fn(positions, box, pairs))"
   ]
  },
  {
   "cell_type": "code",
   "execution_count": null,
   "id": "57e620a7",
   "metadata": {},
   "outputs": [],
   "source": []
  }
 ],
 "metadata": {
  "kernelspec": {
   "display_name": "Python 3 (ipykernel)",
   "language": "python",
   "name": "python3"
  },
  "language_info": {
   "codemirror_mode": {
    "name": "ipython",
    "version": 3
   },
   "file_extension": ".py",
   "mimetype": "text/x-python",
   "name": "python",
   "nbconvert_exporter": "python",
   "pygments_lexer": "ipython3",
   "version": "3.10.8"
  }
 },
 "nbformat": 4,
 "nbformat_minor": 5
}
