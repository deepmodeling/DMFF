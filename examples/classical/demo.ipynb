{
 "cells": [
  {
   "attachments": {},
   "cell_type": "markdown",
   "metadata": {},
   "source": [
    "# Classical Force Field in DMFF"
   ]
  },
  {
   "attachments": {},
   "cell_type": "markdown",
   "metadata": {},
   "source": [
    "DMFF implements classcial molecular mechanics force fields with the following forms:\n",
    "\n",
    "$$\\begin{align*}\n",
    "    V(\\mathbf{R}) &= V_{\\mathrm{bond}} + V_{\\mathrm{angle}} + V_\\mathrm{torsion} + V_\\mathrm{vdW} + V_\\mathrm{Coulomb} \\\\\n",
    "    &=  \\sum_{\\mathrm{bonds}}\\frac{1}{2}k_b(r - r_0)^2 + \\sum_{\\mathrm{angles}}\\frac{1}{2}k_\\theta (\\theta -\\theta_0)^2 + \\sum_{\\mathrm{torsion}}\\sum_{n=1}^4 V_n[1+\\cos(n\\phi - \\phi_s)] \\\\\n",
    "    &\\quad+ \\sum_{ij}4\\varepsilon_{ij}\\left[\\left(\\frac{\\sigma_{ij}}{r_{ij}}\\right)^{12} - \\left(\\frac{\\sigma_{ij}}{r_{ij}}\\right)^6\\right] + \\sum_{ij}\\frac{q_iq_j}{4\\pi\\varepsilon_0r_{ij}}\n",
    "\\end{align*}$$"
   ]
  },
  {
   "attachments": {},
   "cell_type": "markdown",
   "metadata": {},
   "source": [
    "## Import necessary packages"
   ]
  },
  {
   "cell_type": "code",
   "execution_count": 2,
   "metadata": {},
   "outputs": [],
   "source": [
    "import jax\n",
    "import jax.numpy as jnp\n",
    "import openmm.app as app\n",
    "import openmm.unit as unit\n",
    "from dmff import Hamiltonian, NeighborList"
   ]
  },
  {
   "attachments": {},
   "cell_type": "markdown",
   "metadata": {},
   "source": [
    "## Compute energy"
   ]
  },
  {
   "attachments": {},
   "cell_type": "markdown",
   "metadata": {},
   "source": [
    "DMFF uses **OpenMM** to parse input files, including coordinates files, topology specification files. Class `Hamiltonian` inherited from `openmm.ForceField` will be initialized and used to parse force field parameters in XML format. Take parametrzing an organic moleclue with GAFF2 force field as an example.\n",
    "\n",
    "- `lig_top.xml`: Define bond connections (topology). Not necessary if such information is specified in pdb with `CONNECT` keyword.\n",
    "- `gaff-2.11.xml`: GAFF2 force field parameters: bonds, angles, torsions and vdW params\n",
    "- `lig-prm.xml`: Atomic charges"
   ]
  },
  {
   "cell_type": "code",
   "execution_count": 3,
   "metadata": {},
   "outputs": [
    {
     "name": "stdout",
     "output_type": "stream",
     "text": [
      "Generator for HarmonicAngleForce is not implemented.\n",
      "Generator for PeriodicTorsionForce is not implemented.\n",
      "Generator for NonbondedForce is not implemented.\n"
     ]
    }
   ],
   "source": [
    "app.Topology.loadBondDefinitions(\"lig-top.xml\")\n",
    "pdb = app.PDBFile(\"lig.pdb\")\n",
    "ff = Hamiltonian(\"gaff-2.11.xml\", \"lig-prm.xml\")"
   ]
  },
  {
   "attachments": {},
   "cell_type": "markdown",
   "metadata": {},
   "source": [
    "The method `Hamiltonian.createPotential` will be called to create differentiable potential energy functions for different energy terms. "
   ]
  },
  {
   "cell_type": "code",
   "execution_count": 4,
   "metadata": {},
   "outputs": [
    {
     "name": "stdout",
     "output_type": "stream",
     "text": [
      "<function HarmonicBondJaxGenerator.createForce.<locals>.potential_fn at 0x7ff8d0411940>\n",
      "<function HarmonicAngleJaxGenerator.createForce.<locals>.potential_fn at 0x7ff743081d30>\n",
      "<function PeriodicTorsionJaxGenerator.createForce.<locals>.potential_fn at 0x7ff743081ee0>\n",
      "<function NonbondedJaxGenerator.createForce.<locals>.potential_fn at 0x7ff7431ee3a0>\n"
     ]
    }
   ],
   "source": [
    "potentials = ff.createPotential(\n",
    "    pdb.topology,\n",
    "    nonbondedMethod=app.NoCutoff\n",
    ")\n",
    "for k in potentials.dmff_potentials.keys():\n",
    "    pot = potentials.dmff_potentials[k]\n",
    "    print(pot)"
   ]
  },
  {
   "cell_type": "code",
   "execution_count": 9,
   "metadata": {},
   "outputs": [
    {
     "data": {
      "text/plain": [
       "Array([[0, 1, 2, ..., 0, 0, 2],\n",
       "       [1, 0, 1, ..., 0, 0, 3],\n",
       "       [2, 1, 0, ..., 0, 0, 4],\n",
       "       ...,\n",
       "       [0, 0, 0, ..., 0, 2, 0],\n",
       "       [0, 0, 0, ..., 2, 0, 0],\n",
       "       [2, 3, 4, ..., 0, 0, 0]], dtype=int32)"
      ]
     },
     "execution_count": 9,
     "metadata": {},
     "output_type": "execute_result"
    }
   ],
   "source": [
    "potentials.meta[\"cov_map\"]"
   ]
  },
  {
   "attachments": {},
   "cell_type": "markdown",
   "metadata": {},
   "source": [
    "The force field parameters are stored as a Python dict in the `param` attribute of force generators."
   ]
  },
  {
   "cell_type": "code",
   "execution_count": 5,
   "metadata": {},
   "outputs": [
    {
     "data": {
      "text/plain": [
       "Array([-0.75401515,  0.8628848 , -0.74901515,  0.44918483, -0.30991516,\n",
       "        0.58678484, -0.01711515, -0.02311515, -0.13561516, -0.21381515,\n",
       "        0.16038485, -0.47781515,  0.25678486, -0.7003152 ,  0.60158485,\n",
       "       -0.6191152 ,  0.18658485, -0.15001515,  0.10558484, -0.13701515,\n",
       "       -0.08301515,  0.03808485, -0.37091514,  0.81668484, -0.20798215,\n",
       "       -0.20798215, -0.20798215, -0.65701514,  0.00528485,  0.11038485,\n",
       "       -0.58381516, -0.6450152 ,  0.15478484,  0.10428485, -0.67541516,\n",
       "        0.10428485,  0.15478484,  0.08308485,  0.08518485,  0.08518485,\n",
       "        0.06118485,  0.06118485,  0.44978485,  0.16498485,  0.14798485,\n",
       "        0.16998485,  0.32248485,  0.32248485,  0.08718485,  0.08718485,\n",
       "        0.06668485,  0.06668485,  0.39998484,  0.08593485,  0.08593485,\n",
       "        0.10518485,  0.10518485,  0.45978484,  0.10518485,  0.10518485,\n",
       "        0.08593485,  0.08593485,  0.10535185,  0.10535185,  0.10535185,\n",
       "        0.02608485], dtype=float32)"
      ]
     },
     "execution_count": 5,
     "metadata": {},
     "output_type": "execute_result"
    }
   ],
   "source": [
    "params = ff.getParameters()\n",
    "nbparam = params['HarmonicBondForce']\n",
    "nbparam[\"length\"]"
   ]
  },
  {
   "attachments": {},
   "cell_type": "markdown",
   "metadata": {},
   "source": [
    "Each generated function will read **coordinates, box, pairs** and force field parameters as inputs. `pairs` is a integer array in which each row specifying atoms condsidered as neighbors within rcut. This can be calculated with `dmff.NeighborList` class which is supported by `jax_md`.\n",
    "\n",
    "The potential energy function will give energy (a scalar, in kJ/mol) as output:\n",
    "\n"
   ]
  },
  {
   "cell_type": "code",
   "execution_count": 10,
   "metadata": {},
   "outputs": [
    {
     "name": "stdout",
     "output_type": "stream",
     "text": [
      "-425.40482\n",
      "[[ 0  1  1]\n",
      " [ 0  2  2]\n",
      " [ 1  2  1]\n",
      " ...\n",
      " [62 65  0]\n",
      " [63 65  0]\n",
      " [64 65  0]]\n"
     ]
    }
   ],
   "source": [
    "positions = jnp.array(pdb.getPositions(asNumpy=True).value_in_unit(unit.nanometer))\n",
    "box = jnp.array([\n",
    "    [10.0, 0.0, 0.0], \n",
    "    [0.0, 10.0, 0.0],\n",
    "    [0.0, 0.0, 10.0]\n",
    "])\n",
    "nbList = NeighborList(box, 4, potentials.meta[\"cov_map\"])\n",
    "nbList.allocate(positions)\n",
    "pairs = nbList.pairs\n",
    "nbfunc = potentials.dmff_potentials['HarmonicBondForce']\n",
    "energy = nbfunc(positions, box, pairs, params)\n",
    "print(energy)\n",
    "print(pairs)"
   ]
  },
  {
   "attachments": {},
   "cell_type": "markdown",
   "metadata": {},
   "source": [
    "You can also obtain the whole potential energy function and force field parameter set, instead of seperated functions for different energy terms."
   ]
  },
  {
   "cell_type": "code",
   "execution_count": 11,
   "metadata": {},
   "outputs": [
    {
     "data": {
      "text/plain": [
       "Array(-52.358917, dtype=float32)"
      ]
     },
     "execution_count": 11,
     "metadata": {},
     "output_type": "execute_result"
    }
   ],
   "source": [
    "efunc = potentials.getPotentialFunc()\n",
    "params = ff.getParameters()\n",
    "totene = efunc(positions, box, pairs, params)\n",
    "totene"
   ]
  },
  {
   "attachments": {},
   "cell_type": "markdown",
   "metadata": {},
   "source": [
    "## Compute forces and parametric gradients"
   ]
  },
  {
   "attachments": {},
   "cell_type": "markdown",
   "metadata": {},
   "source": [
    "Use `jax.grad` to compute forces and parametric gradients automatically"
   ]
  },
  {
   "cell_type": "code",
   "execution_count": 12,
   "metadata": {},
   "outputs": [
    {
     "data": {
      "text/plain": [
       "(66, 3)"
      ]
     },
     "execution_count": 12,
     "metadata": {},
     "output_type": "execute_result"
    }
   ],
   "source": [
    "pos_grad_func = jax.grad(efunc, argnums=0)\n",
    "force = -pos_grad_func(positions, box, pairs, params)\n",
    "force.shape"
   ]
  },
  {
   "cell_type": "code",
   "execution_count": 13,
   "metadata": {},
   "outputs": [
    {
     "data": {
      "text/plain": [
       "Array([ 652.7753   ,   55.108738 ,  729.36115  , -171.4929   ,\n",
       "        502.70837  ,  -44.917206 ,  129.63994  , -142.31796  ,\n",
       "       -149.62088  ,  453.21503  ,   46.372574 ,  140.15303  ,\n",
       "        575.488    ,  461.46902  ,  294.4358   ,  335.25153  ,\n",
       "         27.828705 ,  671.3637   ,  390.8903   ,  519.6835   ,\n",
       "        220.51129  ,  238.7695   ,  229.97302  ,  210.58838  ,\n",
       "        237.08563  ,  196.40994  ,  231.8734   ,   35.663574 ,\n",
       "        457.76416  ,   77.4798   ,  256.54382  ,  402.2121   ,\n",
       "        592.46265  ,  421.86688  ,  -52.09662  ,  440.8465   ,\n",
       "        611.9573   ,  237.98883  ,  110.286194 ,  150.65375  ,\n",
       "        218.61087  ,  240.20477  , -211.85376  ,  150.7331   ,\n",
       "        310.89404  ,  208.65228  , -139.23026  , -168.8883   ,\n",
       "        114.3645   ,    3.7261353,  399.6282   ,  298.28455  ,\n",
       "        422.06445  ,  485.1427   ,  512.1267   ,  549.84033  ,\n",
       "        556.4724   ,  394.40845  ,  575.85767  ,  606.74744  ,\n",
       "        526.18463  ,  521.27563  ,  558.55896  ,  560.4667   ,\n",
       "        562.812    ,  333.74194  ], dtype=float32)"
      ]
     },
     "execution_count": 13,
     "metadata": {},
     "output_type": "execute_result"
    }
   ],
   "source": [
    "param_grad_func = jax.grad(nbfunc, argnums=-1, allow_int=True)\n",
    "pgrad = param_grad_func(positions, box, pairs, params)\n",
    "pgrad[\"HarmonicBondForce\"][\"length\"]"
   ]
  },
  {
   "cell_type": "code",
   "execution_count": null,
   "metadata": {},
   "outputs": [],
   "source": []
  }
 ],
 "metadata": {
  "interpreter": {
   "hash": "44fe82502fda871be637af1aa98d2b3ddaac01204dd30f1519cbec4e95000815"
  },
  "kernelspec": {
   "display_name": "Python 3 (ipykernel)",
   "language": "python",
   "name": "python3"
  },
  "language_info": {
   "codemirror_mode": {
    "name": "ipython",
    "version": 3
   },
   "file_extension": ".py",
   "mimetype": "text/x-python",
   "name": "python",
   "nbconvert_exporter": "python",
   "pygments_lexer": "ipython3",
   "version": "3.9.16"
  }
 },
 "nbformat": 4,
 "nbformat_minor": 4
}
