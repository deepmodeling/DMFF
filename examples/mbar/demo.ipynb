{
 "cells": [
  {
   "cell_type": "markdown",
   "id": "16a0d3cf",
   "metadata": {},
   "source": [
    "# Optimize CG benzene using MBAR to fit radial distribution function\n",
    "\n",
    "\n",
    "In this demo, we would try to optimize a coarse-grained benzene model with three beads to fit experimental center-of-mass radial distribution function. The potential function only has harmonic bond term and Lennard-Jones term as:\n",
    "\n",
    "$$\\begin{align*}\n",
    "    V(\\mathbf{R}) &= V_{\\mathrm{bond}} + V_\\mathrm{vdW} \\\\\n",
    "    &=  \\sum_{\\mathrm{bonds}}\\frac{1}{2}k_b(r - r_0)^2 \\\\\n",
    "    &\\quad+ \\sum_{ij}4\\varepsilon_{ij}\\left[\\left(\\frac{\\sigma_{ij}}{r_{ij}}\\right)^{12} - \\left(\\frac{\\sigma_{ij}}{r_{ij}}\\right)^6\\right]\n",
    "\\end{align*}$$\n",
    "\n",
    "## Import necessary packages & functions "
   ]
  },
  {
   "cell_type": "code",
   "execution_count": 1,
   "id": "68a9fa08",
   "metadata": {},
   "outputs": [
    {
     "name": "stderr",
     "output_type": "stream",
     "text": [
      "/Users/xinyan/miniconda3/envs/openmm/lib/python3.8/site-packages/dm_haiku-0.0.6-py3.8.egg/haiku/_src/data_structures.py:37: FutureWarning: jax.tree_structure is deprecated, and will be removed in a future release. Use jax.tree_util.tree_structure instead.\n",
      "  PyTreeDef = type(jax.tree_structure(None))\n",
      "WARNING:pymbar.timeseries:Warning on use of the timeseries module: If the inherent timescales of the system are long compared to those being analyzed, this statistical inefficiency may be an underestimate.  The estimate presumes the use of many statistically independent samples.  Tests should be performed to assess whether this condition is satisfied.   Be cautious in the interpretation of the data.\n"
     ]
    }
   ],
   "source": [
    "import openmm as mm\n",
    "import openmm.app as app\n",
    "import openmm.unit as unit\n",
    "import numpy as np\n",
    "import sys\n",
    "import mdtraj as md\n",
    "from tqdm import tqdm, trange\n",
    "import matplotlib.pyplot as plt\n",
    "from dmff.mbar import MBAREstimator, SampleState, TargetState, Sample, OpenMMSampleState, buildTrajEnergyFunction\n",
    "from dmff.optimize import MultiTransform, genOptimizer\n",
    "from dmff import Hamiltonian, NeighborListFreud\n",
    "import optax\n",
    "import jax\n",
    "import jax.numpy as jnp\n",
    "\n",
    "app.Topology.loadBondDefinitions(\"ben-top.xml\")\n",
    "kbT = 8.314 * 303 / 1000.0\n",
    "\n",
    "\n",
    "def readRDF(fname):\n",
    "    with open(fname, \"r\") as f:\n",
    "        data = np.array([[float(j) for j in i.strip().split()] for i in f])\n",
    "    xaxis = np.linspace(2.0, 14.0, 121)\n",
    "    yinterp = np.interp(xaxis, data[:,0], data[:,1])\n",
    "    return xaxis, yinterp\n",
    "\n",
    "# read experimental benzene RDF\n",
    "x_ref, y_ref = readRDF(\"benz.txt\")\n",
    "\n",
    "\n",
    "def sample_with_prm(parameter, trajectory, init_struct=\"box_relaxed.pdb\"):\n",
    "    pdb = app.PDBFile(init_struct)\n",
    "    ff = app.ForceField(parameter)\n",
    "    system = ff.createSystem(pdb.topology, nonbondedMethod=app.PME, nonbondedCutoff=1.1*unit.nanometer, constraints=None)\n",
    "    system.addForce(mm.MonteCarloBarostat(1.0*unit.bar, 303.0*unit.kelvin, 20))\n",
    "    for force in system.getForces():\n",
    "        if isinstance(force, mm.NonbondedForce):\n",
    "            force.setUseDispersionCorrection(False)\n",
    "            force.setUseSwitchingFunction(False)\n",
    "    integ = mm.LangevinIntegrator(303*unit.kelvin, 5/unit.picosecond, 1*unit.femtosecond)\n",
    "\n",
    "    simulation = app.Simulation(pdb.topology, system, integ)\n",
    "    simulation.context.setPositions(pdb.getPositions())\n",
    "    simulation.reporters.append(app.DCDReporter(trajectory, 4000))\n",
    "    simulation.reporters.append(app.StateDataReporter(sys.stdout, 20000, density=True, step=True, remainingTime=True, speed=True, totalSteps=500*1000))\n",
    "    simulation.minimizeEnergy()\n",
    "    simulation.step(500*1000)"
   ]
  },
  {
   "cell_type": "markdown",
   "id": "8ee7668b",
   "metadata": {},
   "source": [
    "## sample with initial parameter set"
   ]
  },
  {
   "cell_type": "code",
   "execution_count": 2,
   "id": "4b29effb",
   "metadata": {},
   "outputs": [
    {
     "name": "stdout",
     "output_type": "stream",
     "text": [
      "#\"Step\",\"Density (g/mL)\",\"Speed (ns/day)\",\"Time Remaining\"\n",
      "20000,0.5609269274230193,0,--\n",
      "40000,0.5459109958008428,154,4:18\n",
      "60000,0.5327412068778505,152,4:09\n",
      "80000,0.5458843337093509,153,3:57\n",
      "100000,0.5499541448891778,153,3:45\n",
      "120000,0.5559041043396893,152,3:35\n",
      "140000,0.552264674142506,152,3:24\n",
      "160000,0.5497341640178879,153,3:12\n",
      "180000,0.5429753752031576,153,3:01\n",
      "200000,0.5483391135340221,153,2:49\n",
      "220000,0.5505668336047832,153,2:38\n",
      "240000,0.5335132149170563,153,2:26\n",
      "260000,0.5612835029864318,153,2:15\n",
      "280000,0.5539964740924908,153,2:04\n",
      "300000,0.5562792831995799,153,1:52\n",
      "320000,0.5810152336723056,153,1:41\n",
      "340000,0.5578735559454526,153,1:30\n",
      "360000,0.5646608102872624,153,1:19\n",
      "380000,0.5715438669104802,153,1:07\n",
      "400000,0.5615453644018904,153,0:56\n",
      "420000,0.5729058327239069,153,0:45\n",
      "440000,0.5551077875519419,153,0:33\n",
      "460000,0.575714406552948,153,0:22\n",
      "480000,0.5542066355298249,153,0:11\n",
      "500000,0.5602510266387776,153,0:00\n"
     ]
    }
   ],
   "source": [
    "sample_with_prm(\"ben-prm.xml\", \"init.dcd\")\n",
    "traj = md.load(\"init.dcd\", top=\"box_relaxed.pdb\")[50:]"
   ]
  },
  {
   "cell_type": "markdown",
   "id": "e39138c2",
   "metadata": {},
   "source": [
    "## compute radial distribution function per frame"
   ]
  },
  {
   "cell_type": "code",
   "execution_count": 4,
   "id": "ae1d2a94",
   "metadata": {},
   "outputs": [],
   "source": [
    "def compute_rdf_frame(traj, xaxis):\n",
    "    rdf_list = []\n",
    "    delta = xaxis[1] - xaxis[0]\n",
    "\n",
    "    tidx = []\n",
    "    for ii in range(200):\n",
    "        tidx.append(3*ii)\n",
    "    tidx = np.array(tidx)\n",
    "    tsub = traj.atom_slice(tidx)\n",
    "    xyzs = traj.xyz\n",
    "    com = np.zeros((traj.n_frames, 200, 3))\n",
    "\n",
    "    for na in range(3):\n",
    "        com += xyzs[:,tidx+na,:]\n",
    "    com = com / 3\n",
    "\n",
    "    pairs = []\n",
    "    for na in range(200):\n",
    "        for nb in range(na+1, 200):\n",
    "            pairs.append([na, nb])\n",
    "    tsub.xyz = com\n",
    "\n",
    "    for frame in tsub:\n",
    "        _, g_r = md.compute_rdf(frame, pairs, r_range=(xaxis[0]-0.5*delta, xaxis[-1]+0.5*delta+1e-10), bin_width=delta)\n",
    "        rdf_list.append(g_r.reshape((1, -1)))\n",
    "    return np.concatenate(rdf_list, axis=0)\n"
   ]
  },
  {
   "cell_type": "markdown",
   "id": "a8b76cf8",
   "metadata": {},
   "source": [
    "## initialize MBAR estimator"
   ]
  },
  {
   "cell_type": "code",
   "execution_count": 5,
   "id": "724a10d0",
   "metadata": {},
   "outputs": [
    {
     "name": "stderr",
     "output_type": "stream",
     "text": [
      "  0%|                                                    | 0/75 [00:00<?, ?it/s]WARNING:root:Warning: importing 'simtk.openmm' is deprecated.  Import 'openmm' instead.\n",
      "100%|██████████████████████████████████████████| 75/75 [00:00<00:00, 184.40it/s]\n"
     ]
    }
   ],
   "source": [
    "state_name = \"ben-prm\"\n",
    "state = OpenMMSampleState(state_name, \"ben-prm.xml\", \"box_relaxed.pdb\", temperature=303.0, pressure=1.0)\n",
    "sample = Sample(traj, state_name)\n",
    "\n",
    "\n",
    "estimator = MBAREstimator()\n",
    "estimator.add_state(state)\n",
    "estimator.add_sample(sample)\n",
    "estimator.optimize_mbar()\n",
    "rdf_frames = compute_rdf_frame(estimator._full_samples, x_ref*0.1)"
   ]
  },
  {
   "cell_type": "markdown",
   "id": "162885fc",
   "metadata": {},
   "source": [
    "## define a function to calculate DMFF energy using mdtraj.Trajectory as input\n",
    "\n",
    "Here we use \"buildEnergyFunction\" function generator to build a function which can calculate energies of a trajectory with the MDTraj trajectory itself and a parameter set."
   ]
  },
  {
   "cell_type": "code",
   "execution_count": 6,
   "id": "470afdbe",
   "metadata": {},
   "outputs": [],
   "source": [
    "hamilt = Hamiltonian(\"ben-prm.xml\")\n",
    "top_pdb = app.PDBFile(\"box_relaxed.pdb\")\n",
    "pot = hamilt.createPotential(top_pdb.topology, nonbondedMethod=app.PME, nonbondedCutoff=1.1*unit.nanometer, ethresh=1e-4)\n",
    "efunc = pot.getPotentialFunc()\n",
    "\n",
    "target_energy_function = buildTrajEnergyFunction(efunc,\n",
    "                                                pot.meta[\"cov_map\"],\n",
    "                                                1.1,\n",
    "                                                ensemble=\"npt\")"
   ]
  },
  {
   "cell_type": "markdown",
   "id": "b2058da0",
   "metadata": {},
   "source": [
    "## Create optax transforms \n",
    "\n",
    "We also need to create transform for each force field parameter. The parameter not setted later will not be optimized."
   ]
  },
  {
   "cell_type": "code",
   "execution_count": 7,
   "id": "96c247e2",
   "metadata": {},
   "outputs": [],
   "source": [
    "multiTrans = MultiTransform(hamilt.paramtree)\n",
    "multiTrans[\"LennardJonesForce/sigma\"] = genOptimizer(learning_rate=0.005, clip=0.05)\n",
    "multiTrans[\"LennardJonesForce/epsilon\"] = genOptimizer(learning_rate=0.005, clip=0.05)\n",
    "multiTrans[\"HarmonicBondForce/k\"] = genOptimizer(learning_rate=10.0, clip=10.0)\n",
    "multiTrans.finalize()"
   ]
  },
  {
   "cell_type": "markdown",
   "id": "f8b351ab",
   "metadata": {},
   "source": [
    "## Initialize optimizer"
   ]
  },
  {
   "cell_type": "code",
   "execution_count": 8,
   "id": "31780c41",
   "metadata": {},
   "outputs": [],
   "source": [
    "grad_transform = optax.multi_transform(multiTrans.transforms, multiTrans.labels)\n",
    "opt_state = grad_transform.init(hamilt.paramtree)"
   ]
  },
  {
   "cell_type": "markdown",
   "id": "54e0ea28",
   "metadata": {},
   "source": [
    "## Run optimization loop"
   ]
  },
  {
   "cell_type": "code",
   "execution_count": null,
   "id": "599b0f1c",
   "metadata": {},
   "outputs": [
    {
     "name": "stdout",
     "output_type": "stream",
     "text": [
      "LOOP 1\n"
     ]
    },
    {
     "name": "stderr",
     "output_type": "stream",
     "text": [
      "100%|███████████████████████████████████████████| 75/75 [00:04<00:00, 16.20it/s]\n",
      "100%|███████████████████████████████████████████| 75/75 [00:46<00:00,  1.61it/s]\n"
     ]
    },
    {
     "name": "stdout",
     "output_type": "stream",
     "text": [
      "Loss: -1.8043019\n",
      "Neff: 74.99999916040227\n",
      "Total effective samples:\n",
      "ben-prm: 73\n",
      "Total: 74.99999916040227\n",
      "LOOP 2\n"
     ]
    },
    {
     "name": "stderr",
     "output_type": "stream",
     "text": [
      "100%|██████████████████████████████████████████| 75/75 [00:00<00:00, 219.57it/s]\n",
      "100%|███████████████████████████████████████████| 75/75 [00:45<00:00,  1.64it/s]\n"
     ]
    },
    {
     "name": "stdout",
     "output_type": "stream",
     "text": [
      "Loss: -1.9461998\n",
      "Neff: 1.0820234332264933\n",
      "Total effective samples:\n",
      "ben-prm: 1\n",
      "Total: 1.0820234332264933\n",
      "Add loop-2\n",
      "#\"Step\",\"Density (g/mL)\",\"Speed (ns/day)\",\"Time Remaining\"\n",
      "20000,0.5760809744941384,0,--\n",
      "40000,0.5833184680811015,156,4:14\n",
      "60000,0.5781627044833334,156,4:04\n",
      "80000,0.5940449427033085,155,3:53\n",
      "100000,0.5572647706997856,155,3:43\n",
      "120000,0.5734518088240227,155,3:32\n",
      "140000,0.5678675808280508,155,3:21\n",
      "160000,0.5802075827897538,155,3:09\n",
      "180000,0.5636034778610327,155,2:58\n",
      "200000,0.5828136632596796,155,2:47\n",
      "220000,0.607298999952365,155,2:36\n",
      "240000,0.5981345756912775,154,2:25\n",
      "260000,0.5811187528304593,154,2:14\n",
      "280000,0.5692368156592845,153,2:03\n",
      "300000,0.5830765331944094,153,1:52\n",
      "320000,0.5859934675864289,153,1:41\n",
      "340000,0.5906165150125336,153,1:30\n",
      "360000,0.593990819511393,152,1:19\n",
      "380000,0.5870797573618849,152,1:08\n",
      "400000,0.5827299014964887,152,0:56\n",
      "420000,0.591129033152864,152,0:45\n",
      "440000,0.5828923868029461,152,0:34\n",
      "460000,0.5858575619688796,152,0:22\n",
      "480000,0.5841300183857974,152,0:11\n",
      "500000,0.5856317844047974,152,0:00\n"
     ]
    },
    {
     "name": "stderr",
     "output_type": "stream",
     "text": [
      "100%|██████████████████████████████████████████| 75/75 [00:00<00:00, 122.79it/s]\n"
     ]
    },
    {
     "name": "stdout",
     "output_type": "stream",
     "text": [
      "LOOP 3\n"
     ]
    },
    {
     "name": "stderr",
     "output_type": "stream",
     "text": [
      "100%|███████████████████████████████████████████| 75/75 [00:04<00:00, 15.09it/s]\n",
      "100%|███████████████████████████████████████████| 75/75 [00:48<00:00,  1.56it/s]\n"
     ]
    },
    {
     "name": "stdout",
     "output_type": "stream",
     "text": [
      "Loss: -2.02044\n",
      "Neff: 74.99999890053131\n",
      "Total effective samples:\n",
      "loop-2: 73\n",
      "Total: 74.99999890053131\n",
      "LOOP 4\n"
     ]
    },
    {
     "name": "stderr",
     "output_type": "stream",
     "text": [
      "100%|██████████████████████████████████████████| 75/75 [00:00<00:00, 108.39it/s]\n",
      "100%|███████████████████████████████████████████| 75/75 [00:46<00:00,  1.60it/s]\n"
     ]
    },
    {
     "name": "stdout",
     "output_type": "stream",
     "text": [
      "Loss: -2.0885944\n",
      "Neff: 7.05485934835645\n",
      "Total effective samples:\n",
      "loop-2: 7\n",
      "Total: 7.05485934835645\n",
      "LOOP 5\n"
     ]
    },
    {
     "name": "stderr",
     "output_type": "stream",
     "text": [
      "100%|██████████████████████████████████████████| 75/75 [00:00<00:00, 193.46it/s]\n",
      " 13%|█████▋                                     | 10/75 [00:06<00:41,  1.58it/s]"
     ]
    }
   ],
   "source": [
    "for nloop in range(1, 51):\n",
    "    print(\"LOOP\", nloop)\n",
    "    target_state = TargetState(303.0, target_energy_function)\n",
    "\n",
    "    def lossfunc(param):\n",
    "        weight, utarget = estimator.estimate_weight(target_state, parameters=param)\n",
    "        rdf_pert = (rdf_frames * weight.reshape((-1, 1))).sum(axis=0)\n",
    "        loss_ref = jax.numpy.log(jax.numpy.power(rdf_pert - y_ref, 2).mean())\n",
    "        return loss_ref, utarget\n",
    "\n",
    "    (loss, utarget), g = jax.value_and_grad(lossfunc, 0, has_aux=True)(hamilt.paramtree)\n",
    "    print(\"Loss:\", loss)\n",
    "    ieff = estimator.estimate_effective_sample(utarget, decompose=True)\n",
    "\n",
    "    updates, opt_state = grad_transform.update(g, opt_state, params=hamilt.paramtree)\n",
    "    newprm = optax.apply_updates(hamilt.paramtree, updates)\n",
    "    hamilt.updateParameters(newprm)\n",
    "    # render optimized parameters in xml force field\n",
    "    hamilt.render(f\"loop-{nloop}.xml\")\n",
    "\n",
    "    print(\"Neff:\", ieff[\"Total\"])\n",
    "\n",
    "    # if the effective samples of a state is 0, remove the state\n",
    "    print(\"Total effective samples:\")\n",
    "    for k, v in ieff.items():\n",
    "        print(f\"{k}: {v}\")\n",
    "\n",
    "    # if the effective samples of a state is less than 5, then remove this sample\n",
    "    for k, v in ieff.items():\n",
    "        if v < 5 and k != \"Total\":\n",
    "            estimator.remove_state(k)\n",
    "\n",
    "    # if all the states are removed, add a new state.\n",
    "    if len(estimator.states) < 1:\n",
    "        print(\"Add\", f\"loop-{nloop}\")\n",
    "        sample_with_prm(f\"loop-{nloop}.xml\", f\"loop-{nloop}.dcd\")\n",
    "        traj = md.load(f\"loop-{nloop}.dcd\", top=\"box_relaxed.pdb\")[50:]\n",
    "        state = OpenMMSampleState(f\"loop-{nloop}\", f\"loop-{nloop}.xml\", \"box_relaxed.pdb\", temperature=303.0, pressure=1.0)\n",
    "        sample = Sample(traj, f\"loop-{nloop}\")\n",
    "        estimator.add_state(state)\n",
    "        estimator.add_sample(sample)\n",
    "\n",
    "        draw_frames = compute_rdf_frame(traj, x_ref*0.1)\n",
    "        plt.figure()\n",
    "        plt.plot(x_ref, draw_frames.mean(axis=0))\n",
    "        plt.plot(x_ref, y_ref)\n",
    "        plt.savefig(f\"com-{nloop}.png\")\n",
    "\n",
    "    estimator.optimize_mbar()\n",
    "    rdf_frames = compute_rdf_frame(estimator._full_samples, x_ref*0.1)"
   ]
  },
  {
   "cell_type": "code",
   "execution_count": null,
   "id": "b18f125b",
   "metadata": {},
   "outputs": [],
   "source": []
  }
 ],
 "metadata": {
  "kernelspec": {
   "display_name": "Python 3.8.12 64-bit ('openmm': conda)",
   "language": "python",
   "name": "python3812jvsc74a57bd0ad839ba78d10fa96d43fa9cb6a84fd3caecb35997a1401f8deaa1a388143c5f7"
  },
  "language_info": {
   "codemirror_mode": {
    "name": "ipython",
    "version": 3
   },
   "file_extension": ".py",
   "mimetype": "text/x-python",
   "name": "python",
   "nbconvert_exporter": "python",
   "pygments_lexer": "ipython3",
   "version": "3.8.12"
  }
 },
 "nbformat": 4,
 "nbformat_minor": 5
}
